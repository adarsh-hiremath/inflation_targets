{
 "cells": [
  {
   "cell_type": "code",
   "execution_count": 1,
   "id": "21b4a3c5",
   "metadata": {},
   "outputs": [],
   "source": [
    "import numpy as np\n",
    "import pandas as pd \n",
    "import matplotlib.pyplot as plt\n",
    "import csv"
   ]
  },
  {
   "attachments": {},
   "cell_type": "markdown",
   "id": "b5965567",
   "metadata": {},
   "source": [
    "## Part 1: Plotting the troughs of CPI, Core CPI, PCE, and Core PCE compared to the troughs during recessions. \n",
    "We will examine the following recessions: \n",
    "* Recession of 1980 - 1982 (January 1980 - July 1980 and July 1981 to November 1982)\n",
    "* Early 1990s (July  1990 -  March 1991)\n",
    "* Early 2000s (March 2001 - November 2001)\n",
    "* Great Recession (December 2007 - June 2009)\n",
    "* COVID-19 (February 2020 - April 2020)"
   ]
  },
  {
   "cell_type": "code",
   "execution_count": 2,
   "id": "612aa496",
   "metadata": {},
   "outputs": [],
   "source": [
    "# CPI historical data: https://fred.stlouisfed.org/series/CPILFESL\n",
    "# Core CPI historical data: https://fred.stlouisfed.org/series/CPILFESL\n",
    "\n",
    "# Loading the data. Converted from xlsx to csv to avoid encoding errors.\n",
    "core_cpi = pd.read_csv('core_cpi.csv')\n",
    "overall_cpi = pd.read_csv('overall_cpi.csv')"
   ]
  },
  {
   "cell_type": "code",
   "execution_count": 3,
   "id": "2772e381",
   "metadata": {},
   "outputs": [],
   "source": [
    "# Gathering data for each recession with data from the 4 years before and after for core CPI. \n",
    "early_80s_core = core_cpi.loc[core_cpi['observation_date'].str.startswith(('1976', '1977', '1978','1979','1980', '1981', '1982','1983', '1984', '1985', '1986'))]\n",
    "early_90s_core = core_cpi.loc[core_cpi['observation_date'].str.startswith(('1986', '1987', '1988','1989','1990', '1991', '1992', '1993', '1994', '1995'))]\n",
    "early_00s_core = core_cpi.loc[core_cpi['observation_date'].str.startswith(('1997', '1998', '1999', '2000','2001', '2002', '2003', '2004', '2005'))]\n",
    "great_recession_core = core_cpi.loc[core_cpi['observation_date'].str.startswith(('2003', '2004', '2005', '2006','2007', '2008', '2009', '2010', '2011', '2012', '2013'))]\n",
    "covid_core = core_cpi.loc[core_cpi['observation_date'].str.startswith(('2017', '2018', '2019','2020', '2021', '2022'))]\n",
    "\n",
    "# Data was processed using Pandas and graphs were generated with Excel. Find the data and graphs at: https://drive.google.com/drive/folders/15GL9dAO53Bxe-mPjl-OXPAlRjFiy_Nn_?usp=share_link"
   ]
  },
  {
   "attachments": {},
   "cell_type": "markdown",
   "id": "2baad51d",
   "metadata": {},
   "source": [
    "## Part 2: Calculating the difference between average minimum inflation for the above recessions and average inflation. "
   ]
  },
  {
   "attachments": {},
   "cell_type": "markdown",
   "id": "7aa2ef93",
   "metadata": {},
   "source": [
    "World Bank Data: https://data.worldbank.org/indicator/FP.CPI.TOTL.ZG?locations=US\n",
    "\n",
    "With Excel, we get the following results \n",
    "                                        \n",
    "1980 - 1982 (January 1980 - July 1980 and July 1981 to November 1982):\n",
    "* 1978 - 1984\t\n",
    "* Average Inflation: 8.059107141\t\n",
    "* Minimum Inflation: 3.212435233\n",
    "\n",
    "Early 1990s (July 1990 - March 1991):\t\t\n",
    "* 1988 - 1993\t\n",
    "* Average Inflation: 4.086356864\t\n",
    "* Minimum Inflation: 2.951656966\n",
    "\n",
    "Early 2000s (March 2001 - November 2001): \n",
    "* Time Period: 1998 - 2003\t\n",
    "* Average Inflation: 2.299910214\t\n",
    "* Minimum Inflation: 1.552279099\n",
    "\n",
    "Great Recession (December 2007 - June 2009):\t\t\n",
    "* Time Period: 2005 - 2011\t\n",
    "* Average Inflation: 2.535971781\n",
    "* Minimum Inflation: -0.35554627\n",
    "\n",
    "COVID-19 (February 2020 - April 2020):\t\t\n",
    "* Time Period: 2018 - 2021\t\n",
    "* Average Inflation: 2.546559158\t\n",
    "* Minimum Inflation: 1.233584396"
   ]
  },
  {
   "attachments": {},
   "cell_type": "markdown",
   "id": "278f925e",
   "metadata": {},
   "source": [
    "## Part 3: Plot the difference between wage inflation and CPI inflation. \n",
    "\n",
    "First, we compute average wage inflation for each year. Then we compare against the post-processed World Bank data for consumer price inflation. "
   ]
  },
  {
   "cell_type": "code",
   "execution_count": 6,
   "id": "e91e8bce",
   "metadata": {},
   "outputs": [],
   "source": [
    "# Wage inflation data: https://www.atlantafed.org/chcs/wage-growth-tracker\n",
    "\n",
    "yearly_wage_growth = {}\n",
    "\n",
    "wage_growth = pd.read_csv('us_wage_growth.csv')\n",
    "years =  wage_growth[['Year ', 'Unweighted Overall']]\n",
    "\n",
    "# Helper function to return true if string can be converted into float. \n",
    "def is_float (string):\n",
    "    try: \n",
    "        float(string)\n",
    "        return True\n",
    "    except ValueError: \n",
    "        return False\n",
    "\n",
    "# Adds the wage inflation totals to our dictionary for each year. \n",
    "for i, elt in years.iterrows(): \n",
    "    ends_in = str(elt['Year ']).split('/')[-1]\n",
    "    if (ends_in != 'nan' and is_float(elt['Unweighted Overall'])):\n",
    "        ends_in = int(ends_in)\n",
    "        yearly_wage_growth[ends_in] = yearly_wage_growth[ends_in] + float(elt['Unweighted Overall']) if ends_in in yearly_wage_growth else float(elt['Unweighted Overall'])\n",
    "\n",
    "# Post-processing for average calculations. \n",
    "yearly_wage_growth[97] = yearly_wage_growth[97] / 10\n",
    "yearly_wage_growth[22] = yearly_wage_growth[22] / 11\n",
    "\n",
    "for k in yearly_wage_growth: \n",
    "    if (k != 97 and k != 22):\n",
    "        yearly_wage_growth[k] = yearly_wage_growth[k] / 12\n",
    "\n",
    "# Output as CSV for graphing. \n",
    "with open('wage_averages.csv', 'w') as output: \n",
    "    writer = csv.writer(output)\n",
    "    for k, v in yearly_wage_growth.items(): \n",
    "        writer.writerow([k, v])"
   ]
  },
  {
   "attachments": {},
   "cell_type": "markdown",
   "id": "3616a1c3",
   "metadata": {},
   "source": [
    "## Part 4: Performing the Granger-Causality Test to determine if prices cause wages or wages cause prices. "
   ]
  }
 ],
 "metadata": {
  "kernelspec": {
   "display_name": "venv",
   "language": "python",
   "name": "python3"
  },
  "language_info": {
   "codemirror_mode": {
    "name": "ipython",
    "version": 3
   },
   "file_extension": ".py",
   "mimetype": "text/x-python",
   "name": "python",
   "nbconvert_exporter": "python",
   "pygments_lexer": "ipython3",
   "version": "3.9.0"
  },
  "vscode": {
   "interpreter": {
    "hash": "b2351a9a23adcd7e141d81f96294360007d16b08312f72e16e20853a7082a2c3"
   }
  }
 },
 "nbformat": 4,
 "nbformat_minor": 5
}
